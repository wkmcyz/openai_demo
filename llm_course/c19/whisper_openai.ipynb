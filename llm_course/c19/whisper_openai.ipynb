{
 "cells": [
  {
   "cell_type": "code",
   "execution_count": 2,
   "outputs": [
    {
     "name": "stdout",
     "output_type": "stream",
     "text": [
      "欢迎来到 Onboard 真实的一线经验 走新的投资思考 我是 Monica 我是高宁 我们一起聊聊 软件如何改变世界 大家好 欢迎来到 Onboard 我是 Monica 自从 OpenAI 发布的 ChatGBT 掀起了 席卷世界的 AI 热潮 不到三个月 就积累了超过 一亿的越货用户 超过一千三百万的 日货用户 真的是展现了 AI 让人惊艳 让人惊艳 真的是展现了 AI 让人惊叹的能力 也让很多人直呼 这就是下一个 互联网的未来 有不少观众都说 希望我们再做一期 AI 的讨论 于是 这次硬核讨论就来了 这次我们请来了 Google Brain 的 研究员雪芝 她是 Google 大语言模型 PALM Pathway Language Model 的作者之一 要知道 这个模型的参数量 是 GPT-3 的 三倍还多 另外还有两位 AI 产品大牛 一位来自著名的 Stable Diffusion 背后的 商业公司 Stability AI 另一位来自 某硅谷科技大厂 也曾在 吴恩达教授的 Landing AI 中 担任产品负责人 此外 莫妮凯还邀请到一位 一直关注 AI 的 投资人朋友 Bill 当作我的 特邀共同主持嘉宾 我们主要讨论几个话题 一方面 从研究的视角 最前沿的研究者 在关注什么 现在的技术的天花板 和未来大的变量 可能会在哪里 从产品和商业的角度 什么是一个好的 AI 产品 整个状态 可能随着技术 有怎样的演变 更重要的 我们又能从 上一波 AI 的 创业热潮中 学到什么 最后 莫妮凯和 Bill 还会从投资人的视角 做一个回顾 总结和畅想 这里还有一个 小的update 在本集发布的时候 Google 也对 爆发式增长的 Chat GBT 做出了回应 正在测试一个 基于 Lambda 模型的 聊天机器人 Apprentice Bot 证实发布后 会有怎样的惊喜 我们都拭目以待 AI 无疑是 未来几年 最令人兴奋的 变量之一 莫妮凯也希望 未来能邀请到 更多一线从业者 从不同角度 讨论这个话题 不论是想要做创业 研究 产品 还是投资的同学 希望这些对话 对于大家了解 这些技术演进 商业的可能 甚至未来 对于我们每个人 每个社会 意味着什么 都能引发 一些思考 提供一些启发 这次的讨论 有些技术硬核 需要各位 对生成式 AI 大模型 都有一些基础了解 讨论中涉及到的 论文和重要概念 也会总结在 本期的简介中 供大家复习参考 几位嘉宾 在北美工作生活多年 夹杂英文 在所难免 也请大家体谅了 欢迎来到未来 大家 enjoy 可以大家先做一个 简单的自我介绍 你们自己 过去的一些经验 一个 fun fact 就是你最喜欢的\n"
     ]
    }
   ],
   "source": [
    "import openai, os\n",
    "\n",
    "openai.api_key = os.getenv(\"OPENAI_API_KEY\")\n",
    "\n",
    "audio_file= open(\"./data/podcast_clip.mp3\", \"rb\")\n",
    "transcript = openai.Audio.transcribe(\"whisper-1\", audio_file)\n",
    "print(transcript['text'])"
   ],
   "metadata": {
    "collapsed": false,
    "ExecuteTime": {
     "end_time": "2023-07-24T05:31:14.922133Z",
     "start_time": "2023-07-24T05:31:00.187328Z"
    }
   }
  },
  {
   "cell_type": "code",
   "execution_count": 3,
   "outputs": [
    {
     "name": "stdout",
     "output_type": "stream",
     "text": [
      "欢迎来到onboard,真实的一线经验,走新的投资思考。我是莫妮卡。 我是高宁。我们一起聊聊软件如何改变世界。 大家好,欢迎来到onboard,我是莫妮卡。 自从OpenAI发布的ChatGBT掀起了席卷世界的AI热潮, 不到三个月就积累了超过一亿的越活用户,超过1300万的日活用户。 真的是展现了AI让人惊叹的能力,也让很多人直呼这就是下一个互联网的未来。 有不少观众都说希望我们再做一期AI的讨论,于是这次硬核讨论就来了。 这次我们请来了Google Brain的研究员雪芝, 她是Google大语言模型PALM Pathway Language Model的作者之一。 要知道,这个模型的参数量是GPT-3的三倍还多。 另外还有两位AI产品大牛, 一位来自著名的Stable Diffusion背后的商业公司Serbility AI, 另一位来自某硅谷科技大厂,也曾在吴恩达教授的Landing AI中担任产品负责人。 此外,莫妮卡还邀请到一位一直关注AI的投资人朋友Bill, 当做我的特邀共同主持嘉宾。 我们主要讨论几个话题,一方面从研究的视角,最前沿的研究者在关注什么? 现在技术的天花板和未来大的变量可能会在哪里? 从产品和商业的角度,什么是一个好的AI产品? 整个生态可能随着技术有怎样的演变? 更重要的,我们又能从上一波AI的创业热潮中学到什么? 最后,莫妮卡和Bill还会从投资人的视角做一个回顾、总结和畅想。 这里还有一个小的update, 在本集发布的时候,Google也对爆发式增长的ChatGBT做出了回应, 正在测试一个基于Lambda模型的聊天机器人ApprenticeBot, 证实发布后会有怎样的惊喜,我们都拭目以待。 AI无疑是未来几年最令人兴奋的变量之一, 莫妮卡也希望未来能邀请到更多一线从业者从不同角度讨论这个话题, 不论是想要做创业、研究、产品还是投资的同学, 希望这些对话对于大家了解这些技术演进、商业的可能, 甚至未来对于我们每个人每个社会意味着什么都能引发一些思考,提供一些启发。 这次的讨论有些技术硬核,需要各位对生成式AI大模型都有一些基础了解, 讨论中涉及到的论文和重要概念也会总结在本集的简介中, 供大家复习参考。几位嘉宾在北美工作生活多年, 夹杂英文在所难免,也请大家体谅了。欢迎来到未来,大家enjoy!\n"
     ]
    }
   ],
   "source": [
    "audio_file= open(\"./data/podcast_clip.mp3\", \"rb\")\n",
    "transcript = openai.Audio.transcribe(\"whisper-1\", audio_file,\n",
    "                                     prompt=\"这是一段中文播客内容。\")\n",
    "print(transcript['text'])"
   ],
   "metadata": {
    "collapsed": false,
    "ExecuteTime": {
     "end_time": "2023-07-24T05:31:54.395265Z",
     "start_time": "2023-07-24T05:31:42.281893Z"
    }
   }
  },
  {
   "cell_type": "code",
   "execution_count": 4,
   "outputs": [
    {
     "name": "stdout",
     "output_type": "stream",
     "text": [
      "欢迎来到Onboard,真实的一线经验,走新的投资思考。 我是Monica。 我是高宁。我们一起聊聊软件如何改变世界。 大家好,欢迎来到Onboard,我是Monica。 自从OpenAI发布的ChatGBT掀起了席卷世界的AI热潮, 不到三个月就积累了超过一亿的越活用户,超过1300万的日活用户。 真的是展现了AI让人惊叹的能力,也让很多人直呼这就是下一个互联网的未来。 有不少观众都说希望我们再做一期AI的讨论,于是这次硬核讨论就来了。 这次我们请来了Google Brain的研究员雪芝, 她是Google大语言模型POM,Pathway Language Model的作者之一。 要知道,这个模型的参数量是GPT-3的三倍还多。 另外还有两位AI产品大牛, 一位来自著名的Stable Diffusion背后的商业公司Serbility AI, 另一位来自某硅谷科技大厂,也曾在吴恩达教授的Landing AI中担任产品负责人。 此外,Monica还邀请到一位一直关注AI的投资人朋友Bill, 当做我的特邀共同主持嘉宾。 我们主要讨论几个话题,一方面从研究的视角,最前沿的研究者在关注什么? 现在技术的天花板和未来大的变量可能会在哪里? 从产品和商业的角度,什么是一个好的AI产品? 整个生态可能随着技术有怎样的演变? 更重要的,我们又能从上一波AI的创业热潮中学到什么? 最后,Monica和Bill还会从投资人的视角做一个回顾、总结和畅想。 这里还有一个小的update, 在本集发布的时候,Google也对爆发式增长的ChatGBT做出了回应, 正在测试一个基于Lambda模型的聊天机器人ApprenticeBot, 正式发布后会有怎样的惊喜?我们都拭目以待。 AI无疑是未来几年最令人兴奋的变量之一, Monica也希望未来能邀请到更多一线从业者从不同角度讨论这个话题, 不论是想要做创业、研究、产品还是投资的同学, 希望这些对话对于大家了解这些技术演进、商业的可能, 甚至未来对于我们每个人每个社会意味着什么都能引发一些思考,提供一些启发。 这次的讨论有些技术硬核,需要各位对生成式AI大模型都有一些基础了解, 讨论中涉及到的论文和重要概念也会总结在本集的简介中, 供大家复习参考。几位嘉宾在北美工作生活多年, 夹杂英文在所难免,也请大家体谅了。欢迎来到未来,大家enjoy!\n"
     ]
    }
   ],
   "source": [
    "\n",
    "audio_file= open(\"./data/podcast_clip.mp3\", \"rb\")\n",
    "transcript = openai.Audio.transcribe(\"whisper-1\", audio_file,\n",
    "                                     prompt=\"这是一段Onboard播客的内容。\")\n",
    "print(transcript['text'])"
   ],
   "metadata": {
    "collapsed": false,
    "ExecuteTime": {
     "end_time": "2023-07-24T05:32:55.581835Z",
     "start_time": "2023-07-24T05:32:43.115182Z"
    }
   }
  },
  {
   "cell_type": "code",
   "execution_count": 5,
   "outputs": [
    {
     "name": "stdout",
     "output_type": "stream",
     "text": [
      "欢迎来到Onboard,真实的一线经验,走新的投资思考。我是Monica。 我是高宁,我们一起聊聊软件如何改变世界。 大家好,欢迎来到Onboard,我是Monica。 自从OpenAI发布的ChatGPT掀起了席卷世界的AI热潮,不到三个月就积累了超过一亿的越活用户,超过1300万的日活用户。 真的是展现了AI让人惊叹的能力,也让很多人直呼这就是下一个互联网的未来。 有不少观众都说希望我们再做一期AI的讨论,于是这次硬核讨论就来了。 这次我们请来了Google Brain的研究员雪芝,她是Google大语言模型PALM Pathways Language Model的作者之一。 要知道,这个模型的参数量是GPT-3的三倍还多。 另外还有两位AI产品大牛,一位来自著名的Stable Diffusion背后的商业公司Certainty AI, 另一位来自某硅谷科技大厂,也曾在吴恩达教授的Landing AI中担任产品负责人。 此外,Monica还邀请到一位一直关注AI的投资人朋友Bill,当做我的特邀共同主持嘉宾。 我们主要讨论几个话题,一方面从研究的视角,最前沿的研究者在关注什么? 现在技术的天花板和未来大的变量可能会在哪里? 从产品和商业的角度,什么是一个好的AI产品? 整个生态可能随着技术有怎样的演变? 更重要的,我们又能从上一波AI的创业热潮中学到什么? 最后,Monica和Bill还会从投资人的视角做一个回顾、总结和畅想。 这里还有一个小的update,在本集发布的时候,Google也对爆发式增长的ChatGBT做出了回应, 正在测试一个基于Lambda模型的聊天机器人ApprenticeBot,证实发布后会有怎样的惊喜,我们都拭目以待。 AI无疑是未来几年最令人兴奋的变量之一,Monica也希望未来能邀请到更多一线从业者从不同角度讨论这个话题。 不论是想要做创业、研究、产品还是投资的同学,希望这些对话对于大家了解这些技术演进、商业的可能, 甚至未来对于我们每个人、每个社会意味着什么,都能引发一些思考,提供一些启发。 这次的讨论有些技术硬核,需要各位对生成式AI大模型都有一些基础了解。 讨论中涉及到的论文和重要概念,也会总结在本期的简介中,供大家复习参考。 几位嘉宾在北美工作生活多年,夹杂英文在所难免,也请大家体谅了。欢迎来到未来,大家enjoy!\n"
     ]
    }
   ],
   "source": [
    "\n",
    "audio_file= open(\"./data/podcast_clip.mp3\", \"rb\")\n",
    "transcript = openai.Audio.transcribe(\"whisper-1\", audio_file,\n",
    "                                     prompt=\"这是一段Onboard播客，里面会聊到ChatGPT以及PALM这个大语言模型。这个模型也叫做Pathways Language Model。\")\n",
    "print(transcript['text'])"
   ],
   "metadata": {
    "collapsed": false,
    "ExecuteTime": {
     "end_time": "2023-07-24T05:33:41.664635Z",
     "start_time": "2023-07-24T05:33:29.090363Z"
    }
   }
  },
  {
   "cell_type": "code",
   "execution_count": 6,
   "outputs": [
    {
     "name": "stdout",
     "output_type": "stream",
     "text": [
      "1\n",
      "00:00:01,000 --> 00:00:08,000\n",
      "欢迎来到Onboard,真实的一线经验,走新的投资思考。我是Monica。\n",
      "\n",
      "2\n",
      "00:00:08,000 --> 00:00:11,000\n",
      "我是高宁,我们一起聊聊软件如何改变世界。\n",
      "\n",
      "3\n",
      "00:00:15,000 --> 00:00:18,000\n",
      "大家好,欢迎来到Onboard,我是Monica。\n",
      "\n",
      "4\n",
      "00:00:18,000 --> 00:00:28,000\n",
      "自从OpenAI发布的ChatGBT掀起了席卷世界的AI热潮,不到三个月就积累了超过一亿的越活用户,超过1300万的日活用户。\n",
      "\n",
      "5\n",
      "00:00:28,000 --> 00:00:34,000\n",
      "真的是展现了AI让人惊叹的能力,也让很多人直呼这就是下一个互联网的未来。\n",
      "\n",
      "6\n",
      "00:00:34,000 --> 00:00:41,000\n",
      "有不少观众都说希望我们再做一期AI的讨论,于是这次硬核讨论就来了。\n",
      "\n",
      "7\n",
      "00:00:41,000 --> 00:00:49,000\n",
      "这次我们请来了Google Brain的研究员雪芝,她是Google大语言模型PALM Pathways Language Model的作者之一。\n",
      "\n",
      "8\n",
      "00:00:49,000 --> 00:00:53,000\n",
      "要知道,这个模型的参数量是GPT-3的三倍还多。\n",
      "\n",
      "9\n",
      "00:00:53,000 --> 00:01:01,000\n",
      "另外还有两位AI产品大牛,一位来自著名的Stable Diffusion背后的商业公司Certainty AI,\n",
      "\n",
      "10\n",
      "00:01:01,000 --> 00:01:08,000\n",
      "另一位来自某硅谷科技大厂,也曾在吴恩达教授的Landing AI中担任产品负责人。\n",
      "\n",
      "11\n",
      "00:01:08,000 --> 00:01:15,000\n",
      "此外,Monica还邀请到一位一直关注AI的投资人朋友Bill,当做我的特邀共同主持嘉宾。\n",
      "\n",
      "12\n",
      "00:01:15,000 --> 00:01:21,000\n",
      "我们主要讨论几个话题,一方面从研究的视角,最前沿的研究者在关注什么?\n",
      "\n",
      "13\n",
      "00:01:21,000 --> 00:01:26,000\n",
      "现在技术的天花板和未来大的变量可能会在哪里?\n",
      "\n",
      "14\n",
      "00:01:26,000 --> 00:01:30,000\n",
      "从产品和商业的角度,什么是一个好的AI产品?\n",
      "\n",
      "15\n",
      "00:01:30,000 --> 00:01:33,000\n",
      "整个生态可能随着技术有怎样的演变?\n",
      "\n",
      "16\n",
      "00:01:33,000 --> 00:01:38,000\n",
      "更重要的,我们又能从上一波AI的创业热潮中学到什么?\n",
      "\n",
      "17\n",
      "00:01:38,000 --> 00:01:44,000\n",
      "最后,Monica和Bill还会从投资人的视角做一个回顾、总结和畅想。\n",
      "\n",
      "18\n",
      "00:01:45,000 --> 00:01:52,000\n",
      "这里还有一个小的update,在本集发布的时候,Google也对爆发式增长的ChatGBT做出了回应,\n",
      "\n",
      "19\n",
      "00:01:52,000 --> 00:02:01,000\n",
      "正在测试一个基于Lambda模型的聊天机器人ApprenticeBot,证实发布后会有怎样的惊喜,我们都拭目以待。\n",
      "\n",
      "20\n",
      "00:02:01,000 --> 00:02:11,000\n",
      "AI无疑是未来几年最令人兴奋的变量之一,Monica也希望未来能邀请到更多一线从业者从不同角度讨论这个话题。\n",
      "\n",
      "21\n",
      "00:02:11,000 --> 00:02:20,000\n",
      "不论是想要做创业、研究、产品还是投资的同学,希望这些对话对于大家了解这些技术演进、商业的可能,\n",
      "\n",
      "22\n",
      "00:02:20,000 --> 00:02:27,000\n",
      "甚至未来对于我们每个人、每个社会意味着什么,都能引发一些思考,提供一些启发。\n",
      "\n",
      "23\n",
      "00:02:27,000 --> 00:02:34,000\n",
      "这次的讨论有些技术硬核,需要各位对生成式AI大模型都有一些基础了解。\n",
      "\n",
      "24\n",
      "00:02:34,000 --> 00:02:41,000\n",
      "讨论中涉及到的论文和重要概念,也会总结在本期的简介中,供大家复习参考。\n",
      "\n",
      "25\n",
      "00:02:41,000 --> 00:02:50,000\n",
      "几位嘉宾在北美工作生活多年,夹杂英文在所难免,也请大家体谅了。欢迎来到未来,大家enjoy!\n",
      "\n",
      "\n",
      "\n"
     ]
    }
   ],
   "source": [
    "\n",
    "audio_file= open(\"./data/podcast_clip.mp3\", \"rb\")\n",
    "transcript = openai.Audio.transcribe(\"whisper-1\", audio_file, response_format=\"srt\",\n",
    "                                     prompt=\"这是一段Onboard播客，里面会聊到PALM这个大语言模型。这个模型也叫做Pathways Language Model。\")\n",
    "print(transcript)"
   ],
   "metadata": {
    "collapsed": false,
    "ExecuteTime": {
     "end_time": "2023-07-24T05:34:59.509157Z",
     "start_time": "2023-07-24T05:34:47.728493Z"
    }
   }
  },
  {
   "cell_type": "code",
   "execution_count": null,
   "outputs": [],
   "source": [],
   "metadata": {
    "collapsed": false
   }
  }
 ],
 "metadata": {
  "kernelspec": {
   "name": "py310",
   "language": "python",
   "display_name": "py310"
  },
  "language_info": {
   "codemirror_mode": {
    "name": "ipython",
    "version": 2
   },
   "file_extension": ".py",
   "mimetype": "text/x-python",
   "name": "python",
   "nbconvert_exporter": "python",
   "pygments_lexer": "ipython2",
   "version": "2.7.6"
  }
 },
 "nbformat": 4,
 "nbformat_minor": 0
}
